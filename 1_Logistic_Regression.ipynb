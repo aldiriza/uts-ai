{
 "cells": [
  {
   "cell_type": "markdown",
   "id": "09d37c98",
   "metadata": {},
   "source": [
    "**Aldi Riza Rahnawan**<br>\n",
    "**3332190048**<br>\n",
    "**Kecerdasan Buatan A**<br>\n",
    "<br>\n",
    "**Ulangan Tengah Semester**"
   ]
  },
  {
   "cell_type": "markdown",
   "id": "f1293ca4",
   "metadata": {},
   "source": [
    "# 1. Logistic Regression"
   ]
  },
  {
   "cell_type": "code",
   "execution_count": 1,
   "id": "c6441077",
   "metadata": {},
   "outputs": [],
   "source": [
    "import numpy as np\n",
    "from sklearn import linear_model \n",
    "import matplotlib.pyplot as plt"
   ]
  },
  {
   "cell_type": "markdown",
   "id": "81f2e97b",
   "metadata": {},
   "source": [
    "* **import numpy** digunakan untuk memanggil library numpy yang berfungsi untuk mengolah array, matriks, dan linear aljabar. \n",
    "* **sklearn** atau scikit-learn adalah library pada python yang digunakan dalam machine learning. Dalam kasus kali ini digunakan *linear_model* untuk melakukan prediksi dalam kasus-kasus linear.\n",
    "* **matplotlib** adalah library pada python yang digunakan untuk memvisualisasikan data"
   ]
  },
  {
   "cell_type": "code",
   "execution_count": 2,
   "id": "f206e190",
   "metadata": {},
   "outputs": [],
   "source": [
    "from utilities import visualize_classifier"
   ]
  },
  {
   "cell_type": "markdown",
   "id": "bf18a3c9",
   "metadata": {},
   "source": [
    "* Perintah diatas digunakan untuk memvisualisasikan model classifier yang telah dibuat."
   ]
  },
  {
   "cell_type": "code",
   "execution_count": 3,
   "id": "5425d757",
   "metadata": {},
   "outputs": [],
   "source": [
    "# Define sample input data\n",
    "X = np.array([[3.1, 7.2], [4, 6.7], [2.9, 8], [5.1, 4.5], [6, 5], [5.6, 5], \n",
    "              [3.3, 0.4], [3.9, 0.9], [2.8, 1], [0.5, 3.4], [1, 4], [0.6, 4.9]])\n",
    "y = np.array([0, 0, 0, 1, 1, 1, 2, 2, 2, 3, 3, 3])"
   ]
  },
  {
   "cell_type": "markdown",
   "id": "e7d94008",
   "metadata": {},
   "source": [
    "* Listing ini digunakan untuk mendeskripsikan data vektor 2 dimensi pada variabel X dan y, variabel X akan digunakan sebagai **predictor(variabel independen)** dan variabel y akan digunakan sebagai **target(variabel dependen)**.<br>\n",
    "* Data yang digunakan adalah jenis numpy array."
   ]
  },
  {
   "cell_type": "code",
   "execution_count": 4,
   "id": "a18958ed",
   "metadata": {},
   "outputs": [],
   "source": [
    "# Create the logistic regression classifier\n",
    "classifier = linear_model.LogisticRegression(solver='liblinear', C=1)\n",
    "classifier_2 = linear_model.LogisticRegression(solver='liblinear', C=100)"
   ]
  },
  {
   "cell_type": "markdown",
   "id": "8ce8aab3",
   "metadata": {},
   "source": [
    "* **linear_model.LogisticRegression** adalah perintah yang digunakan untuk membuat suatu model klasifikasi Logistic Regression. Logistic Regression sendiri adalah metode yang digunakan untuk menjelaskan hubungan antara variabel input (independen variabel) dan variabel output (dependen variabel). Logistic Regression mengestimasi hubungan antara variabel independen dan dependen menggunakan probababilitas dengan fungsi linear. Fungsi logistic berbentuk kurva sigmoid yang mengklasifikasikan sebuah data kedalam kondisi True atau False. \n",
    "* Pada kode diatas digunakan **liblinear** yang meruoakan library untuk melakukan klasifikasi secara linear dengan menggunakan metode Coordinat Descendant. \n",
    "* Kemudian ada nilai **C** yang digunakan untuk memberikan pinalty atas kesalahan klasifikasi, sehingga model akan lebih menyesuaikan terhadap data dan akan mendapatkan garis pembatas antara class yang semakin akurat. Semakin besar nilai **C** maka akan semakin akurat, namun perlu diperhatikan bahwa jika nilai **C** terlalu besar dapat menyebabkan overfit pada model. Kondisi overfit ini adalah kondisi dimana model memiliki akurasi tinggi terhadap data training, namun memiliki performa yang rendah pada saat dilakukan test. \n",
    "* Pada liting code diatas saya membuat dua buah model classifier dengan masing-masing **C=1** dan **C=100**. Hal ini akan digunakan sebagai perbandingan."
   ]
  },
  {
   "cell_type": "code",
   "execution_count": 5,
   "id": "38d38833",
   "metadata": {},
   "outputs": [
    {
     "data": {
      "text/plain": [
       "LogisticRegression(C=1, solver='liblinear')"
      ]
     },
     "execution_count": 5,
     "metadata": {},
     "output_type": "execute_result"
    }
   ],
   "source": [
    "# Train the classifier C=1\n",
    "classifier.fit(X, y)"
   ]
  },
  {
   "cell_type": "markdown",
   "id": "866e3fce",
   "metadata": {},
   "source": [
    "* **classifier.fit(X, y)** adalah perintah yang digunakan untuk melakukan training model menggunakan data yang telah di definisikan sebelumnya, yaitu **X** sebagai variabel independen dan **y** sebagai variabel dependen."
   ]
  },
  {
   "cell_type": "code",
   "execution_count": 6,
   "id": "acb6f910",
   "metadata": {},
   "outputs": [
    {
     "data": {
      "text/plain": [
       "LogisticRegression(C=100, solver='liblinear')"
      ]
     },
     "execution_count": 6,
     "metadata": {},
     "output_type": "execute_result"
    }
   ],
   "source": [
    "# Train The Classifier C=100\n",
    "classifier_2.fit(X, y)"
   ]
  },
  {
   "cell_type": "markdown",
   "id": "e87c1af2",
   "metadata": {},
   "source": [
    "* sama seperti perintah sebelumnya **classifier_2.fit** juga digunakan untuk melakukan training pada model. "
   ]
  },
  {
   "cell_type": "code",
   "execution_count": 7,
   "id": "6da36014",
   "metadata": {
    "scrolled": false
   },
   "outputs": [
    {
     "data": {
      "image/png": "[encoded data removed]",
      "text/plain": [
       "<Figure size 432x288 with 1 Axes>"
      ]
     },
     "metadata": {
      "needs_background": "light"
     },
     "output_type": "display_data"
    },
    {
     "data": {
      "image/png": "[encoded data removed]",
      "text/plain": [
       "<Figure size 432x288 with 1 Axes>"
      ]
     },
     "metadata": {
      "needs_background": "light"
     },
     "output_type": "display_data"
    }
   ],
   "source": [
    "# Visualize the performance of the classifier \n",
    "visualize_classifier(classifier, X, y)\n",
    "visualize_classifier(classifier_2, X, y)"
   ]
  },
  {
   "cell_type": "markdown",
   "id": "bebf5074",
   "metadata": {},
   "source": [
    "* Visualize Classifier digunakan untuk memvisualkan klasifikasi yang telah dibuat oleh model. \n",
    "\n",
    "* Grafik diatas membagi klasifikasi menjadi 4 bagian, hal ini sesuai dengan parameter yang ada pada variabel y yaitu 0,1,2,3. Parameter inilah yang digunakan sebagai terget klasfikasi. Garis-garis perbedaan warna yang ada pada grafik merupakan batas antar kelas dari targetnya. Disini terlihat bahwa tiap kelas target memiliki 3 buah data.\n",
    "\n",
    "* Pada model klasifikasi ini juga dibandingkan antara model logistic regression yang menggunakan C=1 dan C=100. Dapat dilihat bahwa grafik dari model yang menggunakan nilai C=100 memiliki garis pembatas yang lebih akurat dan presisi satu sama lain."
   ]
  }
 ],
 "metadata": {
  "kernelspec": {
   "display_name": "Python 3.9 (tensorflow)",
   "language": "python",
   "name": "tensorflow"
  },
  "language_info": {
   "codemirror_mode": {
    "name": "ipython",
    "version": 3
   },
   "file_extension": ".py",
   "mimetype": "text/x-python",
   "name": "python",
   "nbconvert_exporter": "python",
   "pygments_lexer": "ipython3",
   "version": "3.9.11"
  }
 },
 "nbformat": 4,
 "nbformat_minor": 5
}
