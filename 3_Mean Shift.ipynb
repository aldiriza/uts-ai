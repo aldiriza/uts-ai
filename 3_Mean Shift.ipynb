{
 "cells": [
  {
   "cell_type": "markdown",
   "id": "bcaa1488",
   "metadata": {},
   "source": [
    "# 3.  Mean Shift"
   ]
  },
  {
   "cell_type": "markdown",
   "id": "50d1f222",
   "metadata": {},
   "source": [
    "Mean Shift adalah salah satu algoritma Unsupervised Learning (Pembelajaran Tanpa Pengawasan). Mean Shift memiliki cara kerja dengan menghitung semua titik yang ada pada data untuk mencari nilai mean(rata-rata) yang akan digunakan sebagai pusat(center) kluster nya. Perhitungan mean dilakukan untuk tiap data yang berdekatan dan masih memenuhi batas yang telah ditentukan. Nilai mean ini akan menjadi label dan digunakan sebagai pusat cluster. Proses seperti ini terus diulang sampai semua data konvergen. "
   ]
  },
  {
   "cell_type": "code",
   "execution_count": 1,
   "id": "33f2b151",
   "metadata": {},
   "outputs": [],
   "source": [
    "import numpy as np\n",
    "import matplotlib.pyplot as plt\n",
    "from sklearn.cluster import MeanShift, estimate_bandwidth\n",
    "from itertools import cycle"
   ]
  },
  {
   "cell_type": "markdown",
   "id": "b19a50ab",
   "metadata": {},
   "source": [
    "* **import numpy** digunakan untuk memanggil library numpy yang berfungsi untuk mengolah array, matriks, dan linear aljabar. \n",
    "* **matplotlib** adalah library pada python yang digunakan untuk memvisualisasikan data\n",
    "* **sklearn** atau scikit-learn adalah library pada python yang digunakan dalam machine learning. Library ini banyak memuat model-model machine learning. Dalam kasus kali ini digunakan model **Mean Shift** yang digunakan untuk melakukan clustering.\n",
    "* Pada program ini juga digunakan **cycle** yang merupakan bagian dari module **itertools**. **cycle** digunakan untuk melakukan perulangan sampai semua data mencapai konvergen. "
   ]
  },
  {
   "cell_type": "code",
   "execution_count": 2,
   "id": "0c5cc81f",
   "metadata": {},
   "outputs": [],
   "source": [
    "# Load data from input file\n",
    "X = np.loadtxt('data_clustering.txt', delimiter=',')"
   ]
  },
  {
   "cell_type": "markdown",
   "id": "c9a84021",
   "metadata": {},
   "source": [
    "* Pada perintah diatas didefinisikan data **X** yang akan digunakan sebagai masukan untuk model Mean Shift ini.\n",
    "* Data **X** akan dilakukan clustering untuk memetakan data ke label-label tertentu."
   ]
  },
  {
   "cell_type": "code",
   "execution_count": 3,
   "id": "6af63ef2",
   "metadata": {},
   "outputs": [],
   "source": [
    "# Estimate the bandwidth of X\n",
    "bandwidth_X = estimate_bandwidth(X, quantile=0.1, n_samples=len(X))"
   ]
  },
  {
   "cell_type": "markdown",
   "id": "3df810b3",
   "metadata": {},
   "source": [
    "* **estimate_bandwidth** digunakan untuk menentukan batasan atau jumlah data yang akan dihitung pada setiap cycle nya. Dalam hal ini quantile yang digunakan adalah 0.1."
   ]
  },
  {
   "cell_type": "code",
   "execution_count": 4,
   "id": "db82f1f0",
   "metadata": {},
   "outputs": [
    {
     "data": {
      "text/plain": [
       "MeanShift(bandwidth=1.3044799765090382, bin_seeding=True)"
      ]
     },
     "execution_count": 4,
     "metadata": {},
     "output_type": "execute_result"
    }
   ],
   "source": [
    "# Cluster data with MeanShift\n",
    "meanshift_model = MeanShift(bandwidth=bandwidth_X, bin_seeding=True)\n",
    "meanshift_model.fit(X)"
   ]
  },
  {
   "cell_type": "markdown",
   "id": "55f9e764",
   "metadata": {},
   "source": [
    "* Pada listing diatas, dilakukan pemodelan Mean Shift untuk melakukan clustering pada data X\n",
    "* Selanjutnya dilakukan juga Training model menggunakan perintah **.fit** dengan data masukan **X**"
   ]
  },
  {
   "cell_type": "code",
   "execution_count": 5,
   "id": "7427c5fc",
   "metadata": {
    "scrolled": true
   },
   "outputs": [
    {
     "name": "stdout",
     "output_type": "stream",
     "text": [
      "\n",
      "Centers of clusters:\n",
      " [[2.95568966 1.95775862]\n",
      " [7.20690909 2.20836364]\n",
      " [2.17603774 8.03283019]\n",
      " [5.97960784 8.39078431]\n",
      " [4.99466667 4.65844444]]\n"
     ]
    }
   ],
   "source": [
    "# Extract the centers of clusters\n",
    "cluster_centers = meanshift_model.cluster_centers_\n",
    "print('\\nCenters of clusters:\\n', cluster_centers)"
   ]
  },
  {
   "cell_type": "markdown",
   "id": "7c053957",
   "metadata": {},
   "source": [
    "* Dari hasill Pemodelan dan Training diatas didapatkan bahwa data X memiliki 5 label atau pusat cluster dengan titik koordinat(x,y) ditampilkan diatas."
   ]
  },
  {
   "cell_type": "code",
   "execution_count": 6,
   "id": "0d6f32aa",
   "metadata": {},
   "outputs": [
    {
     "name": "stdout",
     "output_type": "stream",
     "text": [
      "\n",
      "Number of clusters in input data = 5\n"
     ]
    }
   ],
   "source": [
    "# Estimate the number of clusters\n",
    "labels = meanshift_model.labels_\n",
    "num_clusters = len(np.unique(labels))\n",
    "print(\"\\nNumber of clusters in input data =\", num_clusters)"
   ]
  },
  {
   "cell_type": "markdown",
   "id": "04e1ac04",
   "metadata": {},
   "source": [
    "* Jumlah cluster diestimasikan berjumlah 5, artinya terdapat 5 titik pusat cluster pada data **X**."
   ]
  },
  {
   "cell_type": "code",
   "execution_count": 7,
   "id": "7e856107",
   "metadata": {
    "scrolled": false
   },
   "outputs": [
    {
     "data": {
      "image/png": "[encoded data removed]",
      "text/plain": [
       "<Figure size 432x288 with 1 Axes>"
      ]
     },
     "metadata": {
      "needs_background": "light"
     },
     "output_type": "display_data"
    }
   ],
   "source": [
    "# Plot the points and cluster centers\n",
    "plt.figure()\n",
    "markers = 'o*xvs'\n",
    "for i, marker in zip(range(num_clusters), markers):\n",
    "    # Plot points that belong to the current cluster\n",
    "    plt.scatter(X[labels==i, 0], X[labels==i, 1], marker=marker, color='black')\n",
    "\n",
    "    # Plot the cluster center\n",
    "    cluster_center = cluster_centers[i]\n",
    "    plt.plot(cluster_center[0], cluster_center[1], marker='o', \n",
    "            markerfacecolor='black', markeredgecolor='black', \n",
    "            markersize=15)\n",
    "\n",
    "plt.title('Clusters')\n",
    "plt.show()"
   ]
  },
  {
   "cell_type": "markdown",
   "id": "6cae0d6b",
   "metadata": {},
   "source": [
    "* Berikut adalah hasil clustering yang didapatkan, terdapat 5 titik pusat cluster yang memiliki titik-titik data sebagai anggota class nya. \n",
    "* Beberapa cluster ini digambarkan dengan simbol **x**,**segitiga**,**kotak**,**lingkaran** dan **bintang**. \n",
    "* Setiap anggota cluster akan terpusat menuju titik pusat clusternya. Kondisi inilah yang dinamakan **Konvergen**"
   ]
  }
 ],
 "metadata": {
  "kernelspec": {
   "display_name": "Python 3.9 (tensorflow)",
   "language": "python",
   "name": "tensorflow"
  },
  "language_info": {
   "codemirror_mode": {
    "name": "ipython",
    "version": 3
   },
   "file_extension": ".py",
   "mimetype": "text/x-python",
   "name": "python",
   "nbconvert_exporter": "python",
   "pygments_lexer": "ipython3",
   "version": "3.9.11"
  }
 },
 "nbformat": 4,
 "nbformat_minor": 5
}
